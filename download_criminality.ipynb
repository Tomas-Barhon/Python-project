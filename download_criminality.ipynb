{
 "cells": [
  {
   "cell_type": "code",
   "execution_count": 44,
   "metadata": {},
   "outputs": [],
   "source": [
    "#importing packages\n",
    "import pandas as pd\n",
    "import numpy as np\n",
    "import requests\n",
    "import json\n",
    "from bs4 import BeautifulSoup\n",
    "import matplotlib.pyplot as plt\n",
    "import os   \n",
    "from zipfile import ZipFile"
   ]
  },
  {
   "cell_type": "code",
   "execution_count": 45,
   "metadata": {},
   "outputs": [
    {
     "name": "stdout",
     "output_type": "stream",
     "text": [
      "200\n"
     ]
    }
   ],
   "source": [
    "year = input(\"Desired year:\")\n",
    "month = input(\"Desired month:\")\n",
    "r = requests.get(\"https://kriminalita.policie.cz/api/v2/downloads/{year}{month}.zip\".format(year = year,month = month))\n",
    "print(r.status_code)\n"
   ]
  },
  {
   "cell_type": "code",
   "execution_count": 46,
   "metadata": {},
   "outputs": [],
   "source": [
    "file_name = \"202304\""
   ]
  },
  {
   "cell_type": "code",
   "execution_count": 47,
   "metadata": {},
   "outputs": [
    {
     "name": "stdout",
     "output_type": "stream",
     "text": [
      "Downloading Completed\n"
     ]
    }
   ],
   "source": [
    "with open(file_name + \".zip\",'wb') as output_file:\n",
    "    output_file.write(r.content)\n",
    "print('Downloading Completed')"
   ]
  },
  {
   "cell_type": "code",
   "execution_count": 48,
   "metadata": {},
   "outputs": [],
   "source": [
    "with ZipFile(\"C:\\\\Users\\\\tomas\\\\Midterm_practice\\\\\" + file_name + \".zip\", 'r') as zObject:\n",
    "  \n",
    "    # Extracting all the members of the zip \n",
    "    # into a specific location.\n",
    "    zObject.extractall(\n",
    "        path=\"C:\\\\Users\\\\tomas\\\\Midterm_practice\")"
   ]
  },
  {
   "cell_type": "code",
   "execution_count": 49,
   "metadata": {},
   "outputs": [
    {
     "name": "stdout",
     "output_type": "stream",
     "text": [
      "202304.csv\n"
     ]
    }
   ],
   "source": [
    "print(file_name + \".csv\")"
   ]
  },
  {
   "cell_type": "code",
   "execution_count": 50,
   "metadata": {},
   "outputs": [],
   "source": [
    "df = pd.read_csv(file_name + \".csv\")"
   ]
  },
  {
   "cell_type": "code",
   "execution_count": 51,
   "metadata": {},
   "outputs": [
    {
     "data": {
      "text/html": [
       "<div>\n",
       "<style scoped>\n",
       "    .dataframe tbody tr th:only-of-type {\n",
       "        vertical-align: middle;\n",
       "    }\n",
       "\n",
       "    .dataframe tbody tr th {\n",
       "        vertical-align: top;\n",
       "    }\n",
       "\n",
       "    .dataframe thead th {\n",
       "        text-align: right;\n",
       "    }\n",
       "</style>\n",
       "<table border=\"1\" class=\"dataframe\">\n",
       "  <thead>\n",
       "    <tr style=\"text-align: right;\">\n",
       "      <th></th>\n",
       "      <th>id</th>\n",
       "      <th>x</th>\n",
       "      <th>y</th>\n",
       "      <th>mp</th>\n",
       "      <th>date</th>\n",
       "      <th>state</th>\n",
       "      <th>relevance</th>\n",
       "      <th>types</th>\n",
       "    </tr>\n",
       "  </thead>\n",
       "  <tbody>\n",
       "    <tr>\n",
       "      <th>0</th>\n",
       "      <td>20751614</td>\n",
       "      <td>15.035709</td>\n",
       "      <td>50.188481</td>\n",
       "      <td>False</td>\n",
       "      <td>2023-04-03T15:26:00.0000+02:00</td>\n",
       "      <td>2</td>\n",
       "      <td>4</td>\n",
       "      <td>55</td>\n",
       "    </tr>\n",
       "    <tr>\n",
       "      <th>1</th>\n",
       "      <td>20751614</td>\n",
       "      <td>15.035709</td>\n",
       "      <td>50.188481</td>\n",
       "      <td>False</td>\n",
       "      <td>2023-04-03T15:26:00.0000+02:00</td>\n",
       "      <td>2</td>\n",
       "      <td>4</td>\n",
       "      <td>102</td>\n",
       "    </tr>\n",
       "    <tr>\n",
       "      <th>2</th>\n",
       "      <td>20753596</td>\n",
       "      <td>14.623349</td>\n",
       "      <td>50.879431</td>\n",
       "      <td>False</td>\n",
       "      <td>2023-04-01T08:00:00.0000+02:00</td>\n",
       "      <td>2</td>\n",
       "      <td>4</td>\n",
       "      <td>35</td>\n",
       "    </tr>\n",
       "    <tr>\n",
       "      <th>3</th>\n",
       "      <td>20753596</td>\n",
       "      <td>14.623349</td>\n",
       "      <td>50.879431</td>\n",
       "      <td>False</td>\n",
       "      <td>2023-04-01T08:00:00.0000+02:00</td>\n",
       "      <td>2</td>\n",
       "      <td>4</td>\n",
       "      <td>49</td>\n",
       "    </tr>\n",
       "    <tr>\n",
       "      <th>4</th>\n",
       "      <td>20768445</td>\n",
       "      <td>12.828141</td>\n",
       "      <td>50.247930</td>\n",
       "      <td>False</td>\n",
       "      <td>2023-04-01T15:25:00.0000+02:00</td>\n",
       "      <td>1</td>\n",
       "      <td>2</td>\n",
       "      <td>55</td>\n",
       "    </tr>\n",
       "    <tr>\n",
       "      <th>...</th>\n",
       "      <td>...</td>\n",
       "      <td>...</td>\n",
       "      <td>...</td>\n",
       "      <td>...</td>\n",
       "      <td>...</td>\n",
       "      <td>...</td>\n",
       "      <td>...</td>\n",
       "      <td>...</td>\n",
       "    </tr>\n",
       "    <tr>\n",
       "      <th>73107</th>\n",
       "      <td>20888053</td>\n",
       "      <td>14.493679</td>\n",
       "      <td>50.029449</td>\n",
       "      <td>False</td>\n",
       "      <td>2023-04-06T21:05:00.0000+02:00</td>\n",
       "      <td>1</td>\n",
       "      <td>4</td>\n",
       "      <td>97</td>\n",
       "    </tr>\n",
       "    <tr>\n",
       "      <th>73108</th>\n",
       "      <td>20888053</td>\n",
       "      <td>14.493679</td>\n",
       "      <td>50.029449</td>\n",
       "      <td>False</td>\n",
       "      <td>2023-04-06T21:05:00.0000+02:00</td>\n",
       "      <td>1</td>\n",
       "      <td>4</td>\n",
       "      <td>120</td>\n",
       "    </tr>\n",
       "    <tr>\n",
       "      <th>73109</th>\n",
       "      <td>20888054</td>\n",
       "      <td>16.295305</td>\n",
       "      <td>49.883140</td>\n",
       "      <td>False</td>\n",
       "      <td>2023-04-06T21:23:00.0000+02:00</td>\n",
       "      <td>1</td>\n",
       "      <td>4</td>\n",
       "      <td>74</td>\n",
       "    </tr>\n",
       "    <tr>\n",
       "      <th>73110</th>\n",
       "      <td>20888054</td>\n",
       "      <td>16.295305</td>\n",
       "      <td>49.883140</td>\n",
       "      <td>False</td>\n",
       "      <td>2023-04-06T21:23:00.0000+02:00</td>\n",
       "      <td>1</td>\n",
       "      <td>4</td>\n",
       "      <td>97</td>\n",
       "    </tr>\n",
       "    <tr>\n",
       "      <th>73111</th>\n",
       "      <td>20888054</td>\n",
       "      <td>16.295305</td>\n",
       "      <td>49.883140</td>\n",
       "      <td>False</td>\n",
       "      <td>2023-04-06T21:23:00.0000+02:00</td>\n",
       "      <td>1</td>\n",
       "      <td>4</td>\n",
       "      <td>120</td>\n",
       "    </tr>\n",
       "  </tbody>\n",
       "</table>\n",
       "<p>73112 rows × 8 columns</p>\n",
       "</div>"
      ],
      "text/plain": [
       "             id          x          y     mp                            date  \\\n",
       "0      20751614  15.035709  50.188481  False  2023-04-03T15:26:00.0000+02:00   \n",
       "1      20751614  15.035709  50.188481  False  2023-04-03T15:26:00.0000+02:00   \n",
       "2      20753596  14.623349  50.879431  False  2023-04-01T08:00:00.0000+02:00   \n",
       "3      20753596  14.623349  50.879431  False  2023-04-01T08:00:00.0000+02:00   \n",
       "4      20768445  12.828141  50.247930  False  2023-04-01T15:25:00.0000+02:00   \n",
       "...         ...        ...        ...    ...                             ...   \n",
       "73107  20888053  14.493679  50.029449  False  2023-04-06T21:05:00.0000+02:00   \n",
       "73108  20888053  14.493679  50.029449  False  2023-04-06T21:05:00.0000+02:00   \n",
       "73109  20888054  16.295305  49.883140  False  2023-04-06T21:23:00.0000+02:00   \n",
       "73110  20888054  16.295305  49.883140  False  2023-04-06T21:23:00.0000+02:00   \n",
       "73111  20888054  16.295305  49.883140  False  2023-04-06T21:23:00.0000+02:00   \n",
       "\n",
       "       state  relevance  types  \n",
       "0          2          4     55  \n",
       "1          2          4    102  \n",
       "2          2          4     35  \n",
       "3          2          4     49  \n",
       "4          1          2     55  \n",
       "...      ...        ...    ...  \n",
       "73107      1          4     97  \n",
       "73108      1          4    120  \n",
       "73109      1          4     74  \n",
       "73110      1          4     97  \n",
       "73111      1          4    120  \n",
       "\n",
       "[73112 rows x 8 columns]"
      ]
     },
     "execution_count": 51,
     "metadata": {},
     "output_type": "execute_result"
    }
   ],
   "source": [
    "df"
   ]
  }
 ],
 "metadata": {
  "kernelspec": {
   "display_name": "Python 3",
   "language": "python",
   "name": "python3"
  },
  "language_info": {
   "codemirror_mode": {
    "name": "ipython",
    "version": 3
   },
   "file_extension": ".py",
   "mimetype": "text/x-python",
   "name": "python",
   "nbconvert_exporter": "python",
   "pygments_lexer": "ipython3",
   "version": "3.10.10"
  },
  "orig_nbformat": 4
 },
 "nbformat": 4,
 "nbformat_minor": 2
}
